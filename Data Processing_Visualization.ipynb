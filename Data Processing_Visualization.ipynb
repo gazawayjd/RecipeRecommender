{
 "cells": [
  {
   "cell_type": "code",
   "execution_count": 1,
   "id": "0dd80aee",
   "metadata": {
    "scrolled": true
   },
   "outputs": [
    {
     "ename": "ModuleNotFoundError",
     "evalue": "No module named 'pandas'",
     "output_type": "error",
     "traceback": [
      "\u001b[1;31m---------------------------------------------------------------------------\u001b[0m",
      "\u001b[1;31mModuleNotFoundError\u001b[0m                       Traceback (most recent call last)",
      "Cell \u001b[1;32mIn[1], line 2\u001b[0m\n\u001b[0;32m      1\u001b[0m \u001b[38;5;66;03m# Load csv into dataframe\u001b[39;00m\n\u001b[1;32m----> 2\u001b[0m \u001b[38;5;28;01mimport\u001b[39;00m \u001b[38;5;21;01mpandas\u001b[39;00m \u001b[38;5;28;01mas\u001b[39;00m \u001b[38;5;21;01mpd\u001b[39;00m\n\u001b[0;32m      3\u001b[0m \u001b[38;5;28;01mimport\u001b[39;00m \u001b[38;5;21;01mnumpy\u001b[39;00m \u001b[38;5;28;01mas\u001b[39;00m \u001b[38;5;21;01mnp\u001b[39;00m\n\u001b[0;32m      4\u001b[0m \u001b[38;5;28;01mimport\u001b[39;00m \u001b[38;5;21;01mnltk\u001b[39;00m\n",
      "\u001b[1;31mModuleNotFoundError\u001b[0m: No module named 'pandas'"
     ]
    }
   ],
   "source": [
    "# Load csv into dataframe\n",
    "import pandas as pd\n",
    "import numpy as np\n",
    "import nltk\n",
    "import string\n",
    "import ast\n",
    "import re\n",
    "import unidecode\n",
    "from nltk.stem import WordNetLemmatizer\n",
    "from nltk.corpus import wordnet\n",
    "from collections import Counter\n",
    "\n",
    "df = pd.read_csv('./recipes.csv', index_col='RecipeId')\n",
    "\n",
    "# Drop columns of irrelevant data\n",
    "df.drop(columns=['CookTime','PrepTime','TotalTime','RecipeCategory','Keywords','RecipeIngredientQuantities','RecipeServings'], inplace=True)\n",
    "\n",
    "# Drop recipes who have a rating of 4 or less OR 3 or less total reviews\n",
    "df = df[df['AggregatedRating'] > 4.0]\n",
    "df = df[df['ReviewCount'] > 3]\n",
    "\n",
    "# Renumbered recipe ID's to match index\n",
    "new_index_values = range(0, len(df))\n",
    "df.index = new_index_values\n",
    "df.index.name = 'RecipeID'\n",
    "\n",
    "# Cleaned up ingredients and instructions column\n",
    "df['RecipeIngredientParts'] = df['RecipeIngredientParts'].apply(lambda x: x.replace('c(','').replace(')',''))\n",
    "df['RecipeInstructions'] = df['RecipeInstructions'].apply(lambda x: x.replace('c(','').replace(')',''))\n",
    "\n",
    "\n"
   ]
  },
  {
   "cell_type": "code",
   "execution_count": null,
   "id": "76080c8f",
   "metadata": {},
   "outputs": [],
   "source": [
    "# Visualize the top 200 most common ingredients to remove common household ingredients (e.g. salt, pepper, oil, etc)\n",
    "vocab = nltk.FreqDist()\n",
    "\n",
    "for ingredients in df['RecipeIngredientParts']:\n",
    "    ingredients = ingredients.split()\n",
    "    vocab.update(ingredients)\n",
    "    \n",
    "for word, frequency in vocab.most_common(200):\n",
    "    print(f'{word};{frequency}')\n"
   ]
  },
  {
   "cell_type": "code",
   "execution_count": 2,
   "id": "3c50911d",
   "metadata": {
    "scrolled": true
   },
   "outputs": [
    {
     "data": {
      "text/html": [
       "<div>\n",
       "<style scoped>\n",
       "    .dataframe tbody tr th:only-of-type {\n",
       "        vertical-align: middle;\n",
       "    }\n",
       "\n",
       "    .dataframe tbody tr th {\n",
       "        vertical-align: top;\n",
       "    }\n",
       "\n",
       "    .dataframe thead th {\n",
       "        text-align: right;\n",
       "    }\n",
       "</style>\n",
       "<table border=\"1\" class=\"dataframe\">\n",
       "  <thead>\n",
       "    <tr style=\"text-align: right;\">\n",
       "      <th></th>\n",
       "      <th>Name</th>\n",
       "      <th>RecipeIngredientParts</th>\n",
       "      <th>AggregatedRating</th>\n",
       "      <th>ReviewCount</th>\n",
       "      <th>RecipeInstructions</th>\n",
       "    </tr>\n",
       "    <tr>\n",
       "      <th>RecipeID</th>\n",
       "      <th></th>\n",
       "      <th></th>\n",
       "      <th></th>\n",
       "      <th></th>\n",
       "      <th></th>\n",
       "    </tr>\n",
       "  </thead>\n",
       "  <tbody>\n",
       "    <tr>\n",
       "      <th>0</th>\n",
       "      <td>Low-Fat Berry Blue Frozen Dessert</td>\n",
       "      <td>\"blueberries\", \"granulated sugar\", \"vanilla yo...</td>\n",
       "      <td>4.5</td>\n",
       "      <td>4.0</td>\n",
       "      <td>\"Toss 2 cups berries with sugar.\", \"Let stand ...</td>\n",
       "    </tr>\n",
       "    <tr>\n",
       "      <th>1</th>\n",
       "      <td>Best Lemonade</td>\n",
       "      <td>\"sugar\", \"lemons, rind of\", \"lemon, zest of\", ...</td>\n",
       "      <td>4.5</td>\n",
       "      <td>10.0</td>\n",
       "      <td>\"Into a 1 quart Jar with tight fitting lid, pu...</td>\n",
       "    </tr>\n",
       "    <tr>\n",
       "      <th>2</th>\n",
       "      <td>Cabbage Soup</td>\n",
       "      <td>\"plain tomato juice\", \"cabbage\", \"onion\", \"car...</td>\n",
       "      <td>4.5</td>\n",
       "      <td>11.0</td>\n",
       "      <td>\"Mix everything together and bring to a boil.\"...</td>\n",
       "    </tr>\n",
       "    <tr>\n",
       "      <th>3</th>\n",
       "      <td>Warm Chicken A La King</td>\n",
       "      <td>\"chicken\", \"butter\", \"flour\", \"milk\", \"celery\"...</td>\n",
       "      <td>5.0</td>\n",
       "      <td>23.0</td>\n",
       "      <td>\"Melt 1 1/2 ozs butter, add the flour and cook...</td>\n",
       "    </tr>\n",
       "    <tr>\n",
       "      <th>4</th>\n",
       "      <td>Chicken Breasts Lombardi</td>\n",
       "      <td>\"fresh mushrooms\", \"butter\", \"boneless skinles...</td>\n",
       "      <td>5.0</td>\n",
       "      <td>21.0</td>\n",
       "      <td>\"Cook mushrooms in 2 tbsp butter in a large  s...</td>\n",
       "    </tr>\n",
       "  </tbody>\n",
       "</table>\n",
       "</div>"
      ],
      "text/plain": [
       "                                       Name  \\\n",
       "RecipeID                                      \n",
       "0         Low-Fat Berry Blue Frozen Dessert   \n",
       "1                             Best Lemonade   \n",
       "2                              Cabbage Soup   \n",
       "3                    Warm Chicken A La King   \n",
       "4                  Chicken Breasts Lombardi   \n",
       "\n",
       "                                      RecipeIngredientParts  AggregatedRating  \\\n",
       "RecipeID                                                                        \n",
       "0         \"blueberries\", \"granulated sugar\", \"vanilla yo...               4.5   \n",
       "1         \"sugar\", \"lemons, rind of\", \"lemon, zest of\", ...               4.5   \n",
       "2         \"plain tomato juice\", \"cabbage\", \"onion\", \"car...               4.5   \n",
       "3         \"chicken\", \"butter\", \"flour\", \"milk\", \"celery\"...               5.0   \n",
       "4         \"fresh mushrooms\", \"butter\", \"boneless skinles...               5.0   \n",
       "\n",
       "          ReviewCount                                 RecipeInstructions  \n",
       "RecipeID                                                                  \n",
       "0                 4.0  \"Toss 2 cups berries with sugar.\", \"Let stand ...  \n",
       "1                10.0  \"Into a 1 quart Jar with tight fitting lid, pu...  \n",
       "2                11.0  \"Mix everything together and bring to a boil.\"...  \n",
       "3                23.0  \"Melt 1 1/2 ozs butter, add the flour and cook...  \n",
       "4                21.0  \"Cook mushrooms in 2 tbsp butter in a large  s...  "
      ]
     },
     "execution_count": 2,
     "metadata": {},
     "output_type": "execute_result"
    }
   ],
   "source": [
    "df.head()"
   ]
  },
  {
   "cell_type": "code",
   "execution_count": 4,
   "id": "a224ae9e",
   "metadata": {},
   "outputs": [
    {
     "name": "stdout",
     "output_type": "stream",
     "text": [
      "\"blueberries\", \"granulated sugar\", \"vanilla yogurt\", \"lemon juice\"\n"
     ]
    }
   ],
   "source": [
    "print(df['RecipeIngredientParts'].iloc[0])"
   ]
  },
  {
   "cell_type": "code",
   "execution_count": 3,
   "id": "b9fdf23a",
   "metadata": {},
   "outputs": [],
   "source": [
    "def ingredient_cleanup(ingredientList):\n",
    "    \n",
    "    terms_to_remove = ['salt', 'pepper', 'oil','of', 'zest','rind','fresh', 'butter', 'sugar', 'water', 'cloves', 'all','purpose', 'black', 'pepper', 'garlic', 'powder', 'cinnamon', 'juice', 'paprika','clove', 'chili','ground','extra','virgin','granulated','cumin','dried','oregano', 'kosher', 'boneless','skinless','canola', 'basil', 'white','thyme','cilantro','vinegar','powder','confectioners','seasoning','lean','curry','light','crushed','dry','boiling','sea']\n",
    "    \n",
    "    # turn ingredients from objects into a list\n",
    "    if isinstance(ingredientList, list):\n",
    "        ingredients = ingredientList\n",
    "    else:\n",
    "        ingredients = ast.literal_eval(ingredientList)\n",
    "    \n",
    "    # initialize lemmatizer and ingredient list to be returned\n",
    "    lemmatizer = WordNetLemmatizer()\n",
    "    cleaned_ingredients = []\n",
    "    \n",
    "    for i in ingredients:\n",
    "        # Split words according to spaces and hyphens\n",
    "        items = re.split(' |-', i)\n",
    "        \n",
    "        # Remove any non-alphabetic terms, set it lower-case and remove any accents\n",
    "        items = [word for word in items if word.isalpha()]\n",
    "        items = [word.lower() for word in items]\n",
    "        items = [unidecode.unidecode(word) for word in items]\n",
    "    \n",
    "        # Lemmatize each word for analysis and comparison\n",
    "        items =[lemmatizer.lemmatize(word) for word in items]\n",
    "        # remove common terms ingredients listed in terms_to_remove\n",
    "        items = [word for word in items if word not in terms_to_remove]\n",
    "        \n",
    "        if items:\n",
    "            cleaned_ingredients.append(' '.join(items))\n",
    "    cleaned_ingredients_str = ' '.join(cleaned_ingredients)\n",
    "    return cleaned_ingredients_str"
   ]
  },
  {
   "cell_type": "code",
   "execution_count": 7,
   "id": "c5733d31",
   "metadata": {},
   "outputs": [
    {
     "data": {
      "text/plain": [
       "'blueberry vanilla yogurt lemon'"
      ]
     },
     "execution_count": 7,
     "metadata": {},
     "output_type": "execute_result"
    }
   ],
   "source": [
    "ingredient_cleanup(df['RecipeIngredientParts'].iloc[0])"
   ]
  },
  {
   "cell_type": "code",
   "execution_count": 9,
   "id": "5d89344e",
   "metadata": {},
   "outputs": [
    {
     "ename": "SyntaxError",
     "evalue": "'(' was never closed (<unknown>, line 1)",
     "output_type": "error",
     "traceback": [
      "Traceback \u001b[1;36m(most recent call last)\u001b[0m:\n",
      "\u001b[0m  File \u001b[0;32m~\\anaconda3\\lib\\site-packages\\IPython\\core\\interactiveshell.py:3460\u001b[0m in \u001b[0;35mrun_code\u001b[0m\n",
      "\u001b[0m  Cell \u001b[0;32mIn[9], line 1\u001b[0m\n    df['RecipeIngredientParts'] = df['RecipeIngredientParts'].apply(lambda x: ingredient_cleanup(x))\u001b[0m\n",
      "\u001b[0m  File \u001b[0;32m~\\anaconda3\\lib\\site-packages\\pandas\\core\\series.py:4771\u001b[0m in \u001b[0;35mapply\u001b[0m\n",
      "\u001b[0m  File \u001b[0;32m~\\anaconda3\\lib\\site-packages\\pandas\\core\\apply.py:1123\u001b[0m in \u001b[0;35mapply\u001b[0m\n",
      "\u001b[0m  File \u001b[0;32m~\\anaconda3\\lib\\site-packages\\pandas\\core\\apply.py:1174\u001b[0m in \u001b[0;35mapply_standard\u001b[0m\n",
      "\u001b[0m  File \u001b[0;32mpandas\\_libs\\lib.pyx:2924\u001b[0m in \u001b[0;35mpandas._libs.lib.map_infer\u001b[0m\n",
      "\u001b[0m  Cell \u001b[0;32mIn[9], line 1\u001b[0m in \u001b[0;35m<lambda>\u001b[0m\n    df['RecipeIngredientParts'] = df['RecipeIngredientParts'].apply(lambda x: ingredient_cleanup(x))\u001b[0m\n",
      "\u001b[0m  Cell \u001b[0;32mIn[3], line 9\u001b[0m in \u001b[0;35mingredient_cleanup\u001b[0m\n    ingredients = ast.literal_eval(ingredientList)\u001b[0m\n",
      "\u001b[0m  File \u001b[0;32m~\\anaconda3\\lib\\ast.py:64\u001b[0m in \u001b[0;35mliteral_eval\u001b[0m\n    node_or_string = parse(node_or_string.lstrip(\" \\t\"), mode='eval')\u001b[0m\n",
      "\u001b[1;36m  File \u001b[1;32m~\\anaconda3\\lib\\ast.py:50\u001b[1;36m in \u001b[1;35mparse\u001b[1;36m\n\u001b[1;33m    return compile(source, filename, mode, flags,\u001b[1;36m\n",
      "\u001b[1;36m  File \u001b[1;32m<unknown>:1\u001b[1;36m\u001b[0m\n\u001b[1;33m    character(0\u001b[0m\n\u001b[1;37m             ^\u001b[0m\n\u001b[1;31mSyntaxError\u001b[0m\u001b[1;31m:\u001b[0m '(' was never closed\n"
     ]
    }
   ],
   "source": [
    "df['RecipeIngredientParts'] = df['RecipeIngredientParts'].apply(lambda x: ingredient_cleanup(x))\n",
    "df.head()"
   ]
  },
  {
   "cell_type": "code",
   "execution_count": null,
   "id": "4ff1abaf",
   "metadata": {},
   "outputs": [],
   "source": []
  }
 ],
 "metadata": {
  "kernelspec": {
   "display_name": "Python 3 (ipykernel)",
   "language": "python",
   "name": "python3"
  },
  "language_info": {
   "codemirror_mode": {
    "name": "ipython",
    "version": 3
   },
   "file_extension": ".py",
   "mimetype": "text/x-python",
   "name": "python",
   "nbconvert_exporter": "python",
   "pygments_lexer": "ipython3",
   "version": "3.10.9"
  }
 },
 "nbformat": 4,
 "nbformat_minor": 5
}
