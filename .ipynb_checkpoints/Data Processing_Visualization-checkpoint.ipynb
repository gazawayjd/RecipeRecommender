{
 "cells": [
  {
   "cell_type": "code",
   "execution_count": 1,
   "id": "0dd80aee",
   "metadata": {
    "scrolled": true
   },
   "outputs": [],
   "source": [
    "# Load csv into dataframe\n",
    "import pandas as pd\n",
    "import numpy as np\n",
    "import nltk\n",
    "import string\n",
    "import ast\n",
    "import re\n",
    "import unidecode\n",
    "from nltk.stem import WordNetLemmatizer\n",
    "from nltk.corpus import wordnet\n",
    "from collections import Counter\n",
    "\n",
    "# Columns with irrelevant data were deleted in Excel prior\n",
    "df = pd.read_csv('./recipes_parsed.csv', index_col='RecipeID')\n",
    "\n",
    "# Drop recipes who have a rating of 4 or less OR 3 or less total reviews\n",
    "df = df.dropna()\n",
    "df['AggregatedRating'] = df['AggregatedRating'].astype(float)\n",
    "df['ReviewCount'] = df['ReviewCount'].astype(float)\n",
    "df = df[df['AggregatedRating'] > 4.0]\n",
    "df = df[df['ReviewCount'] > 25]\n",
    "\n",
    "# Renumbered recipe ID's to match index\n",
    "new_index_values = range(0, len(df))\n",
    "df.index = new_index_values\n",
    "df.index.name = 'RecipeID'\n",
    "\n",
    "# Cleaned up ingredients and instructions column\n",
    "df['RecipeIngredientParts'] = df['RecipeIngredientParts'].str.split()\n",
    "\n"
   ]
  },
  {
   "cell_type": "code",
   "execution_count": 2,
   "id": "b9fdf23a",
   "metadata": {},
   "outputs": [],
   "source": [
    "def ingredient_cleanup(ingredientList):\n",
    "    \n",
    "    terms_to_remove = ['salt', 'pepper', 'oil','of', 'zest','fresh', 'butter', 'sugar', 'water', 'cloves', 'all','purpose', 'black', 'pepper', 'garlic', 'powder', 'cinnamon', 'juice', 'paprika','clove', 'chili','ground','extra','virgin','granulated','cumin','dried','oregano', 'kosher', 'boneless','skinless','canola', 'basil', 'white','thyme','cilantro','vinegar','powder','confectioners','seasoning','lean','curry','light','crushed','dry','boiling','sea', 'plain', 'baking', 'sauce', 'brown', 'green', 'red','sour']\n",
    "    \n",
    "    # turn ingredients from objects into a list\n",
    "    if isinstance(ingredientList, list):\n",
    "        ingredients = ingredientList\n",
    "    else:\n",
    "        ingredients = ast.literal_eval(ingredientList)\n",
    "    \n",
    "    # initialize lemmatizer and ingredient list to be returned\n",
    "    lemmatizer = WordNetLemmatizer()\n",
    "    cleaned_ingredients = []\n",
    "    \n",
    "    for i in ingredients:\n",
    "        # Split words according to spaces and hyphens\n",
    "        items = re.split(' |-', i)\n",
    "        \n",
    "        # Remove any non-alphabetic terms, set it lower-case and remove any accents\n",
    "        items = [word for word in items if word.isalpha()]\n",
    "        items = [word.lower() for word in items]\n",
    "        items = [unidecode.unidecode(word) for word in items]\n",
    "    \n",
    "        # Lemmatize each word for analysis and comparison\n",
    "        items =[lemmatizer.lemmatize(word) for word in items]\n",
    "        # remove common terms ingredients listed in terms_to_remove\n",
    "        items = [word for word in items if word not in terms_to_remove]\n",
    "        \n",
    "        if items:\n",
    "            cleaned_ingredients.append(' '.join(items))\n",
    "    cleaned_ingredients_str = ' '.join(cleaned_ingredients)\n",
    "    return cleaned_ingredients_str"
   ]
  },
  {
   "cell_type": "code",
   "execution_count": 3,
   "id": "5d89344e",
   "metadata": {
    "scrolled": true
   },
   "outputs": [
    {
     "data": {
      "text/html": [
       "<div>\n",
       "<style scoped>\n",
       "    .dataframe tbody tr th:only-of-type {\n",
       "        vertical-align: middle;\n",
       "    }\n",
       "\n",
       "    .dataframe tbody tr th {\n",
       "        vertical-align: top;\n",
       "    }\n",
       "\n",
       "    .dataframe thead th {\n",
       "        text-align: right;\n",
       "    }\n",
       "</style>\n",
       "<table border=\"1\" class=\"dataframe\">\n",
       "  <thead>\n",
       "    <tr style=\"text-align: right;\">\n",
       "      <th></th>\n",
       "      <th>Name</th>\n",
       "      <th>RecipeIngredientParts</th>\n",
       "      <th>AggregatedRating</th>\n",
       "      <th>ReviewCount</th>\n",
       "      <th>RecipeInstructions</th>\n",
       "    </tr>\n",
       "    <tr>\n",
       "      <th>RecipeID</th>\n",
       "      <th></th>\n",
       "      <th></th>\n",
       "      <th></th>\n",
       "      <th></th>\n",
       "      <th></th>\n",
       "    </tr>\n",
       "  </thead>\n",
       "  <tbody>\n",
       "    <tr>\n",
       "      <th>0</th>\n",
       "      <td>Buttermilk Pie</td>\n",
       "      <td>margarine flour egg vanilla buttermilk</td>\n",
       "      <td>5.0</td>\n",
       "      <td>171.0</td>\n",
       "      <td>\"Preheat oven to 400°F.\", \"Beat the butter and...</td>\n",
       "    </tr>\n",
       "    <tr>\n",
       "      <th>1</th>\n",
       "      <td>Alfredo Sauce</td>\n",
       "      <td>sweet heavy cream parmesan cheese</td>\n",
       "      <td>5.0</td>\n",
       "      <td>207.0</td>\n",
       "      <td>\"Place butter in microwave safe pot and heat o...</td>\n",
       "    </tr>\n",
       "    <tr>\n",
       "      <th>2</th>\n",
       "      <td>Blueberry Scones</td>\n",
       "      <td>flour unsalted blueberry lemon heavy cream egg</td>\n",
       "      <td>5.0</td>\n",
       "      <td>38.0</td>\n",
       "      <td>\"Adjust rack to center of oven, and heat to 40...</td>\n",
       "    </tr>\n",
       "    <tr>\n",
       "      <th>3</th>\n",
       "      <td>Champagne Punch</td>\n",
       "      <td>frozen limeade concentrate ginger ale</td>\n",
       "      <td>5.0</td>\n",
       "      <td>30.0</td>\n",
       "      <td>\"Mix the juice concentrates in punch bowl (do ...</td>\n",
       "    </tr>\n",
       "    <tr>\n",
       "      <th>4</th>\n",
       "      <td>Amish Friendship Bread and Starter</td>\n",
       "      <td>milk flour milk egg vanilla extract flour soda...</td>\n",
       "      <td>5.0</td>\n",
       "      <td>50.0</td>\n",
       "      <td>\"Place ONE cup each sugar, milk, and flour in ...</td>\n",
       "    </tr>\n",
       "  </tbody>\n",
       "</table>\n",
       "</div>"
      ],
      "text/plain": [
       "                                        Name  \\\n",
       "RecipeID                                       \n",
       "0                             Buttermilk Pie   \n",
       "1                              Alfredo Sauce   \n",
       "2                           Blueberry Scones   \n",
       "3                            Champagne Punch   \n",
       "4         Amish Friendship Bread and Starter   \n",
       "\n",
       "                                      RecipeIngredientParts  AggregatedRating  \\\n",
       "RecipeID                                                                        \n",
       "0                    margarine flour egg vanilla buttermilk               5.0   \n",
       "1                         sweet heavy cream parmesan cheese               5.0   \n",
       "2            flour unsalted blueberry lemon heavy cream egg               5.0   \n",
       "3                     frozen limeade concentrate ginger ale               5.0   \n",
       "4         milk flour milk egg vanilla extract flour soda...               5.0   \n",
       "\n",
       "          ReviewCount                                 RecipeInstructions  \n",
       "RecipeID                                                                  \n",
       "0               171.0  \"Preheat oven to 400°F.\", \"Beat the butter and...  \n",
       "1               207.0  \"Place butter in microwave safe pot and heat o...  \n",
       "2                38.0  \"Adjust rack to center of oven, and heat to 40...  \n",
       "3                30.0  \"Mix the juice concentrates in punch bowl (do ...  \n",
       "4                50.0  \"Place ONE cup each sugar, milk, and flour in ...  "
      ]
     },
     "execution_count": 3,
     "metadata": {},
     "output_type": "execute_result"
    }
   ],
   "source": [
    "# Run lambda to apply function to database and display results\n",
    "df['RecipeIngredientParts'] = df['RecipeIngredientParts'].apply(lambda x: ingredient_cleanup(x))\n",
    "\n",
    "df.head()"
   ]
  },
  {
   "cell_type": "code",
   "execution_count": 4,
   "id": "978575dd",
   "metadata": {},
   "outputs": [
    {
     "data": {
      "text/plain": [
       "(array([ 0,  1,  2,  3,  4,  5,  6,  7,  8,  9, 10, 11, 12, 13, 14, 15, 16,\n",
       "        17, 18, 19]),\n",
       " [Text(0, 0, 'flour'),\n",
       "  Text(1, 0, 'cheese'),\n",
       "  Text(2, 0, 'onion'),\n",
       "  Text(3, 0, 'egg'),\n",
       "  Text(4, 0, 'milk'),\n",
       "  Text(5, 0, 'chicken'),\n",
       "  Text(6, 0, 'vanilla'),\n",
       "  Text(7, 0, 'cream'),\n",
       "  Text(8, 0, 'olive'),\n",
       "  Text(9, 0, 'tomato'),\n",
       "  Text(10, 0, 'lemon'),\n",
       "  Text(11, 0, 'soda'),\n",
       "  Text(12, 0, 'parsley'),\n",
       "  Text(13, 0, 'margarine'),\n",
       "  Text(14, 0, 'beef'),\n",
       "  Text(15, 0, 'broth'),\n",
       "  Text(16, 0, 'parmesan'),\n",
       "  Text(17, 0, 'cheddar'),\n",
       "  Text(18, 0, 'breast'),\n",
       "  Text(19, 0, 'potato')])"
      ]
     },
     "execution_count": 4,
     "metadata": {},
     "output_type": "execute_result"
    },
    {
     "data": {
      "image/png": "[encoded data removed]",
      "text/plain": [
       "<Figure size 1000x1000 with 1 Axes>"
      ]
     },
     "metadata": {},
     "output_type": "display_data"
    }
   ],
   "source": [
    "import seaborn as sns\n",
    "import matplotlib.pyplot as plt\n",
    "\n",
    "vocab = nltk.FreqDist()\n",
    "for ingredients in df['RecipeIngredientParts']:\n",
    "    ingredients = ingredients.split()\n",
    "    vocab.update(ingredients)\n",
    "\n",
    "top20ingred_fdist = vocab.most_common(20)\n",
    "top20ingred_fdist = pd.Series(dict(top20ingred_fdist))\n",
    "figure, ax = plt.subplots(figsize=(10,10))\n",
    "\n",
    "all_plot = sns.barplot(x=top20ingred_fdist.index, y=top20ingred_fdist.values, ax=ax)\n",
    "plt.xticks(rotation = 30)\n"
   ]
  },
  {
   "cell_type": "code",
   "execution_count": 4,
   "id": "5370f5d5",
   "metadata": {},
   "outputs": [],
   "source": [
    "#Save dataframe to new CSV file to function as database\n",
    "#file_path = 'C:/Users/gazaw/Desktop/WGUCapstone/DataModel/recipes_parsed1.csv'\n",
    "#recipes_parsed = df.to_csv(file_path, index=True)"
   ]
  },
  {
   "cell_type": "code",
   "execution_count": 5,
   "id": "ba95d5c4",
   "metadata": {},
   "outputs": [
    {
     "data": {
      "text/plain": [
       "RecipeIngredientParts\n",
       "accent bacon egg catsup sauce                                                                          1\n",
       "accent beer                                                                                            1\n",
       "acorn squash apple walnut brown margarine                                                              1\n",
       "acorn squash frozen chopped spinach gruyere cheese walnut                                              1\n",
       "acorn squash parmesan cheese                                                                           1\n",
       "                                                                                                      ..\n",
       "zucchini tomato onion parmesan cheese                                                                  1\n",
       "zucchini vanilla extract flour baking soda walnut milk miniature marshmallow vanilla extract walnut    1\n",
       "zucchini yellow onion cheddar cheese chicken bouillon cube parsley                                     1\n",
       "zucchini yellow onion red bell beef egg tomato sauce with and                                          1\n",
       "zucchini zucchini olive spaghetti parmigiano romano cheese                                             1\n",
       "Length: 6843, dtype: int64"
      ]
     },
     "metadata": {},
     "output_type": "display_data"
    }
   ],
   "source": [
    "num_types = df.groupby(by='RecipeIngredientParts').size()\n",
    "display(num_types)"
   ]
  },
  {
   "cell_type": "code",
   "execution_count": null,
   "id": "8baa3444",
   "metadata": {},
   "outputs": [],
   "source": []
  }
 ],
 "metadata": {
  "kernelspec": {
   "display_name": "Python 3 (ipykernel)",
   "language": "python",
   "name": "python3"
  },
  "language_info": {
   "codemirror_mode": {
    "name": "ipython",
    "version": 3
   },
   "file_extension": ".py",
   "mimetype": "text/x-python",
   "name": "python",
   "nbconvert_exporter": "python",
   "pygments_lexer": "ipython3",
   "version": "3.10.9"
  }
 },
 "nbformat": 4,
 "nbformat_minor": 5
}
